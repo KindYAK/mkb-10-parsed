{
 "cells": [
  {
   "cell_type": "code",
   "execution_count": 1,
   "id": "6cb1703c",
   "metadata": {},
   "outputs": [],
   "source": [
    "import pandas as pd"
   ]
  },
  {
   "cell_type": "code",
   "execution_count": 79,
   "id": "e1ef3cac",
   "metadata": {},
   "outputs": [],
   "source": [
    "df = pd.read_excel(\"mkb10.xlsx\")"
   ]
  },
  {
   "cell_type": "code",
   "execution_count": 80,
   "id": "e04a4147",
   "metadata": {},
   "outputs": [],
   "source": [
    "df = df.iloc[3:].copy()\n",
    "df.columns = ['code', 'name', 'parent']\n",
    "df.parent = df.parent.apply(lambda x: x if x == x else \"No\")"
   ]
  },
  {
   "cell_type": "code",
   "execution_count": 73,
   "id": "8b456c47",
   "metadata": {},
   "outputs": [],
   "source": []
  },
  {
   "cell_type": "code",
   "execution_count": 58,
   "id": "f98acf01",
   "metadata": {},
   "outputs": [],
   "source": [
    "stack = []\n",
    "levels = []\n",
    "for code, parent in zip(df.code, df.parent):\n",
    "#     print(parent != parent)\n",
    "    if not stack or parent != stack[-1]:\n",
    "        if parent in stack:\n",
    "            stack = stack[:stack.index(parent) + 1]\n",
    "        else:\n",
    "            stack.append(parent)\n",
    "    levels.append(len(stack))"
   ]
  },
  {
   "cell_type": "code",
   "execution_count": 81,
   "id": "7b3b8f54",
   "metadata": {},
   "outputs": [],
   "source": [
    "cp = {}\n",
    "pc = {}\n",
    "for code, parent in zip(df.code, df.parent):\n",
    "    cp[code] = parent\n",
    "    pc[parent] = code"
   ]
  },
  {
   "cell_type": "code",
   "execution_count": 91,
   "id": "866d60ab",
   "metadata": {},
   "outputs": [],
   "source": [
    "levels = []\n",
    "for code in df.code:\n",
    "    level = 0\n",
    "    p = cp[code]\n",
    "    while p != 'No':\n",
    "        p = cp[p]\n",
    "        level += 1\n",
    "    levels.append(level)"
   ]
  },
  {
   "cell_type": "code",
   "execution_count": null,
   "id": "69368951",
   "metadata": {},
   "outputs": [],
   "source": []
  },
  {
   "cell_type": "code",
   "execution_count": 92,
   "id": "1e5b3bb8",
   "metadata": {},
   "outputs": [],
   "source": [
    "df['level'] = levels"
   ]
  },
  {
   "cell_type": "code",
   "execution_count": null,
   "id": "fa9dc3ad",
   "metadata": {},
   "outputs": [],
   "source": []
  },
  {
   "cell_type": "code",
   "execution_count": 94,
   "id": "a660ea21",
   "metadata": {},
   "outputs": [],
   "source": [
    "df.to_excel(\"mkb-parsed.xlsx\")"
   ]
  },
  {
   "cell_type": "code",
   "execution_count": 49,
   "id": "c104b8e2",
   "metadata": {},
   "outputs": [
    {
     "data": {
      "text/plain": [
       "1"
      ]
     },
     "execution_count": 49,
     "metadata": {},
     "output_type": "execute_result"
    }
   ],
   "source": [
    "[1, 2, 3].index(2)"
   ]
  },
  {
   "cell_type": "code",
   "execution_count": 50,
   "id": "44f42f23",
   "metadata": {},
   "outputs": [
    {
     "data": {
      "text/plain": [
       "[1]"
      ]
     },
     "execution_count": 50,
     "metadata": {},
     "output_type": "execute_result"
    }
   ],
   "source": [
    "[1, 2, 3][:1]"
   ]
  },
  {
   "cell_type": "code",
   "execution_count": null,
   "id": "015460de",
   "metadata": {},
   "outputs": [],
   "source": [
    "df."
   ]
  }
 ],
 "metadata": {
  "kernelspec": {
   "display_name": "Python 3 (ipykernel)",
   "language": "python",
   "name": "python3"
  },
  "language_info": {
   "codemirror_mode": {
    "name": "ipython",
    "version": 3
   },
   "file_extension": ".py",
   "mimetype": "text/x-python",
   "name": "python",
   "nbconvert_exporter": "python",
   "pygments_lexer": "ipython3",
   "version": "3.9.7"
  }
 },
 "nbformat": 4,
 "nbformat_minor": 5
}
